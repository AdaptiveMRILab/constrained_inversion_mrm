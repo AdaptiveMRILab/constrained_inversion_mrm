{
 "cells": [
  {
   "cell_type": "code",
   "execution_count": 1,
   "metadata": {},
   "outputs": [
    {
     "name": "stderr",
     "output_type": "stream",
     "text": [
      "/home/nikolai/dev/constrained_inversion_mrm/venv/lib/python3.10/site-packages/tqdm/auto.py:21: TqdmWarning: IProgress not found. Please update jupyter and ipywidgets. See https://ipywidgets.readthedocs.io/en/stable/user_install.html\n",
      "  from .autonotebook import tqdm as notebook_tqdm\n"
     ]
    }
   ],
   "source": [
    "\n",
    "import os \n",
    "import numpy as np \n",
    "import h5py \n",
    "import json\n",
    "import shutil\n",
    "import time \n",
    "import torch \n",
    "import glob \n",
    "\n",
    "from tqdm import tqdm\n",
    "from datetime import datetime\n",
    "from utils import *\n",
    "from constrained_inversion import *\n",
    "\n",
    "# torch computation device to calculate jacobian via autograd\n",
    "device = torch.device('cuda:0')\n"
   ]
  },
  {
   "cell_type": "markdown",
   "metadata": {},
   "source": []
  },
  {
   "cell_type": "code",
   "execution_count": 5,
   "metadata": {},
   "outputs": [
    {
     "name": "stderr",
     "output_type": "stream",
     "text": [
      " 33%|███▎      | 1/3 [26:58<53:56, 1618.49s/it]"
     ]
    },
    {
     "name": "stdout",
     "output_type": "stream",
     "text": [
      " message: Optimization terminated successfully\n",
      " success: True\n",
      "  status: 0\n",
      "     fun: 0.4285211774413439\n",
      "       x: [-4.830e+03  5.754e+03 ... -1.422e+01 -5.306e+00]\n",
      "     nit: 750\n",
      "     jac: [ 1.808e-04 -2.019e-04 ... -9.865e-06 -1.169e-05]\n",
      "    nfev: 839\n",
      "    njev: 750\n"
     ]
    },
    {
     "name": "stderr",
     "output_type": "stream",
     "text": [
      " 67%|██████▋   | 2/3 [1:01:21<31:19, 1879.86s/it]"
     ]
    },
    {
     "name": "stdout",
     "output_type": "stream",
     "text": [
      " message: Optimization terminated successfully\n",
      " success: True\n",
      "  status: 0\n",
      "     fun: 0.15763096923161868\n",
      "       x: [ 1.300e+02 -5.806e+03 ... -3.661e+01 -6.826e+01]\n",
      "     nit: 965\n",
      "     jac: [-7.962e-06  6.649e-05 ...  3.299e-06  4.307e-06]\n",
      "    nfev: 1125\n",
      "    njev: 965\n"
     ]
    },
    {
     "name": "stderr",
     "output_type": "stream",
     "text": [
      "100%|██████████| 3/3 [1:30:05<00:00, 1801.76s/it]"
     ]
    },
    {
     "name": "stdout",
     "output_type": "stream",
     "text": [
      " message: Optimization terminated successfully\n",
      " success: True\n",
      "  status: 0\n",
      "     fun: 0.08167739379257336\n",
      "       x: [ 1.475e+03 -6.708e+03 ... -5.059e+01 -6.568e+01]\n",
      "     nit: 809\n",
      "     jac: [-9.984e-06  3.127e-05 ... -8.085e-06  7.350e-06]\n",
      "    nfev: 868\n",
      "    njev: 809\n"
     ]
    },
    {
     "name": "stderr",
     "output_type": "stream",
     "text": [
      "\n"
     ]
    }
   ],
   "source": [
    "# get parameters of pulses to design\n",
    "exp1_parfile = 'params_selective.json'\n",
    "with open(exp1_parfile, 'r') as fid: par = json.load(fid)\n",
    "\n",
    "# create output directory\n",
    "exp1_processed_dir = os.path.join('output', 'sel_'+datetime.now().strftime(\"%Y%m%d_%H%M%S\"))\n",
    "os.system('mkdir -p %s'%(exp1_processed_dir))\n",
    "shutil.copy(exp1_parfile, exp1_processed_dir)\n",
    "\n",
    "# number of pulses to optimize \n",
    "num_pulses = len(par)\n",
    "\n",
    "for p in tqdm(range(num_pulses)):\n",
    "\n",
    "    # number of points in RF waveform\n",
    "    num_samples = int(par[p]['dur'] / par[p]['raster_time'])\n",
    "\n",
    "    # b1 scaling factors\n",
    "    b1_scales = np.linspace(min(par[p]['b1+_range']), max(par[p]['b1+_range']), par[p]['num_b1+'], dtype=np.float64)\n",
    "\n",
    "    # calculate the basis functions \n",
    "    basis, s = get_hs_basis(num_samples, par[p]['basis']['num_hs'], par[p]['basis']['dur_hs'], par[p]['basis']['mu_hs'], par[p]['basis']['beta_hs'], ranseed=par[p]['basis']['ranseed'])\n",
    "\n",
    "    # get the target magnetization profile \n",
    "    freq_arr = np.linspace(-par[p]['bandwidth'], par[p]['bandwidth'], par[p]['num_offres'], dtype=np.float64)\n",
    "    rf_hs = sech_waveform(par[p]['hs_for_reference']['dur'], num_samples, par[p]['bandwidth'], par[p]['hs_for_reference']['beta'])\n",
    "    overdrive = 1 / min(par[p]['b1+_range'])\n",
    "    rf_hs = scale_adiabatic_inv_to_overdrive_factor(rf_hs, overdrive, par[p]['raster_time'], device=device)\n",
    "    mz_hs = simulate_mz(rf_hs, freq_arr, b1_scales, par[p]['raster_time'], device=device, return_numpy=True)\n",
    "\n",
    "    # get the target magnetization profile \n",
    "    bw = par[p]['bandwidth']\n",
    "    tw = par[p]['transition_width']\n",
    "    freq_mask = np.zeros_like(freq_arr)\n",
    "    mz_target = np.zeros((freq_arr.size, b1_scales.size), dtype=np.float64)\n",
    "    mz_target[freq_arr < -0.5*bw - 0.5*tw,:] = 1.0\n",
    "    freq_mask[freq_arr < -0.5*bw - 0.5*tw] = 1.0\n",
    "    mz_target[freq_arr >  0.5*bw + 0.5*tw,:] = 1.0\n",
    "    freq_mask[freq_arr > 0.5*bw + 0.5*tw] = 1.0\n",
    "    freq_mask[(freq_arr > -0.5*bw + 0.5*tw) & (freq_arr <  0.5*bw - 0.5*tw)] = 1.0 if par[p]['passband_weight'] is None else par[p]['passband_weight']\n",
    "    mz_target[(freq_arr > -0.5*bw + 0.5*tw) & (freq_arr <  0.5*bw - 0.5*tw),:] = -1.0\n",
    "\n",
    "    # calculate the maximum energy of the pulse to be optimized\n",
    "    E_hs = np.sum(np.abs(rf_hs * rf_hs.conj())*par[p]['raster_time'])\n",
    "    max_energy = E_hs * par[p]['max_energy_fraction_of_hs_reference']\n",
    "    \n",
    "    # inittial guess will be HS pulse\n",
    "    rf_init = rf_hs\n",
    "\n",
    "    # design the pulse!\n",
    "    start_time = time.time()\n",
    "    rf_opt, mz_opt, x_opt = optimize_inversion_pulse_autograd(\n",
    "        rf_init=rf_init,\n",
    "        freq_arr=freq_arr,\n",
    "        freq_mask=freq_mask,\n",
    "        subspace=basis[:,:par[p]['basis']['rank']],\n",
    "        mz_target=mz_target,\n",
    "        duration=par[p]['dur'],\n",
    "        max_rf_energy_hz_sqrd_sec=max_energy,\n",
    "        max_nominal_b1_hz=par[p]['b1_tx_peak']*1e-6*par[p]['gamma_bar'],\n",
    "        b1_scale_arr=b1_scales,\n",
    "        sqp_max_iters=par[p]['sqp_max_iters'],\n",
    "        device=device\n",
    "    )\n",
    "    comp_time = time.time() - start_time \n",
    "    \n",
    "    # save the pulse\n",
    "    pulse_file = os.path.join(exp1_processed_dir, 'pulse_%03d.h5'%(p))\n",
    "    with h5py.File(pulse_file,'w') as F:\n",
    "        F.create_dataset('basis', data=basis)\n",
    "        F.create_dataset('s', data=s)\n",
    "        F.create_dataset('rf_hs', data=rf_hs)\n",
    "        F.create_dataset('rf_init', data=rf_init) \n",
    "        F.create_dataset('rf_opt', data=rf_opt)\n",
    "        F.create_dataset('mz_opt', data=mz_opt)\n",
    "        F.create_dataset('mz_hs', data=mz_hs)\n",
    "        F.create_dataset('b1_scales', data=b1_scales)\n",
    "        F.create_dataset('mz_target', data=mz_target)\n",
    "        F.create_dataset('freq_arr', data=freq_arr)\n",
    "        F.create_dataset('comp_time', data=comp_time)"
   ]
  },
  {
   "cell_type": "markdown",
   "metadata": {},
   "source": []
  },
  {
   "cell_type": "code",
   "execution_count": 2,
   "metadata": {},
   "outputs": [
    {
     "name": "stderr",
     "output_type": "stream",
     "text": [
      "  0%|          | 0/1 [00:00<?, ?it/s]"
     ]
    },
    {
     "name": "stdout",
     "output_type": "stream",
     "text": [
      " message: Optimization terminated successfully\n",
      " success: True\n",
      "  status: 0\n",
      "     fun: 0.028425846751897205\n",
      "       x: [ 4.331e+03  4.120e+03 ... -3.981e+01  8.566e+00]\n",
      "     nit: 754\n",
      "     jac: [-1.377e-05 -1.135e-05 ...  1.716e-05  9.998e-07]\n",
      "    nfev: 764\n",
      "    njev: 754\n"
     ]
    },
    {
     "name": "stderr",
     "output_type": "stream",
     "text": [
      "100%|██████████| 1/1 [04:07<00:00, 247.90s/it]"
     ]
    },
    {
     "name": "stdout",
     "output_type": "stream",
     "text": [
      "0.0073040000000000075\n"
     ]
    },
    {
     "name": "stderr",
     "output_type": "stream",
     "text": [
      "\n"
     ]
    }
   ],
   "source": [
    "\n",
    "# get parameters of pulses to design\n",
    "exp2_parfile = 'params_nonsel.json'\n",
    "with open(exp2_parfile, 'r') as fid: par = json.load(fid)\n",
    "\n",
    "# create output directory\n",
    "exp2_processed_dir = os.path.join('output', 'nonsel_'+datetime.now().strftime(\"%Y%m%d_%H%M%S\"))\n",
    "os.system('mkdir -p %s'%(exp2_processed_dir))\n",
    "shutil.copy(exp2_parfile, exp2_processed_dir)\n",
    "\n",
    "# number of pulses to optimize \n",
    "num_pulses = len(par)\n",
    "\n",
    "for p in tqdm(range(num_pulses)):\n",
    "\n",
    "    # number of points in RF waveform\n",
    "    num_samples = int(par[p]['dur'] / par[p]['raster_time'])\n",
    "\n",
    "    # b1 scaling factors\n",
    "    b1_scales = np.linspace(min(par[p]['b1+_range']), max(par[p]['b1+_range']), par[p]['num_b1+'], dtype=np.float64)\n",
    "\n",
    "    # calculate the basis functions \n",
    "    basis, s = get_hs_basis(num_samples, par[p]['basis']['num_hs'], par[p]['basis']['dur_hs'], par[p]['basis']['mu_hs'], par[p]['basis']['beta_hs'], ranseed=par[p]['basis']['ranseed'])\n",
    "\n",
    "    # array of off-resonance locations to optimize over \n",
    "    freq_arr = np.linspace(-par[p]['bandwidth']/2, par[p]['bandwidth']/2, par[p]['num_offres'], dtype=np.float64)\n",
    "\n",
    "    # get the initial guess and maximum energy\n",
    "    rf_init = sech_waveform(par[p]['hs_for_reference']['dur'], num_samples, par[p]['bandwidth']*1.5, par[p]['hs_for_reference']['beta'])\n",
    "    overdrive = 1 / min(par[p]['b1+_range'])\n",
    "    rf_init = scale_adiabatic_inv_to_overdrive_factor(rf_init, overdrive, par[p]['raster_time'], device=device)\n",
    "    max_energy = np.sum(np.abs(rf_init * rf_init.conj())*par[p]['raster_time']) # allow it to be that of a hard pulse with maxed-out peak B1\n",
    "\n",
    "    # get the target magnetization profile \n",
    "    freq_mask = np.ones_like(freq_arr)\n",
    "    mz_target = -1.0 * np.ones((freq_arr.size, b1_scales.size), dtype=np.float64)\n",
    "\n",
    "    # design the pulse!\n",
    "    start_time = time.time()\n",
    "    rf_opt, mz_opt, x_opt = optimize_inversion_pulse_autograd(\n",
    "        rf_init=rf_init,\n",
    "        freq_arr=freq_arr,\n",
    "        freq_mask=freq_mask,\n",
    "        subspace=basis[:,:par[p]['basis']['rank']],\n",
    "        mz_target=mz_target,\n",
    "        duration=par[p]['dur'],\n",
    "        max_rf_energy_hz_sqrd_sec=max_energy,\n",
    "        max_nominal_b1_hz=par[p]['b1_tx_peak']*1e-6*par[p]['gamma_bar'],\n",
    "        b1_scale_arr=b1_scales,\n",
    "        sqp_max_iters=par[p]['sqp_max_iters'],\n",
    "        device=device\n",
    "    )\n",
    "    comp_time = time.time() - start_time \n",
    "\n",
    "    # find the minimum-duration HS pulse that achieves adiabaticity at lowest B1+ with prescribed peak tx B1\n",
    "    hs_dur = 0.007\n",
    "    dur_inc = 2*par[p]['raster_time']\n",
    "    rf_hs = par[p]['gamma_bar'] * 1e-6 * par[p]['b1_tx_peak'] * sech_waveform(hs_dur, int(hs_dur/par[p]['raster_time']), par[p]['bandwidth']*4, par[p]['hs_for_reference']['beta'])\n",
    "    while np.mean(simulate_mz(rf_hs, freq_arr, b1_scales, par[p]['raster_time'], device=device, return_numpy=True)) > np.mean(mz_opt):\n",
    "        hs_dur += dur_inc \n",
    "        rf_hs = par[p]['gamma_bar'] * 1e-6 * par[p]['b1_tx_peak'] * sech_waveform(hs_dur, int(hs_dur/par[p]['raster_time']), par[p]['bandwidth']*4, par[p]['hs_for_reference']['beta'])\n",
    "    mz_hs = simulate_mz(rf_hs, freq_arr, b1_scales, par[p]['raster_time'], device=device, return_numpy=True)\n",
    "    print(hs_dur)\n",
    "    \n",
    "    # save the pulse\n",
    "    pulse_file = os.path.join(exp2_processed_dir, 'pulse_%03d.h5'%(p))\n",
    "    with h5py.File(pulse_file,'w') as F:\n",
    "        F.create_dataset('basis', data=basis)\n",
    "        F.create_dataset('s', data=s)\n",
    "        F.create_dataset('rf_hs', data=rf_hs)\n",
    "        F.create_dataset('rf_init', data=rf_init) \n",
    "        F.create_dataset('rf_opt', data=rf_opt)\n",
    "        F.create_dataset('mz_opt', data=mz_opt)\n",
    "        F.create_dataset('mz_hs', data=mz_hs)\n",
    "        F.create_dataset('b1_scales', data=b1_scales)\n",
    "        F.create_dataset('mz_target', data=mz_target)\n",
    "        F.create_dataset('freq_arr', data=freq_arr)\n",
    "        F.create_dataset('comp_time', data=comp_time)\n",
    "        F.create_dataset('hs_dur', data=hs_dur)"
   ]
  }
 ],
 "metadata": {
  "kernelspec": {
   "display_name": "venv",
   "language": "python",
   "name": "python3"
  },
  "language_info": {
   "codemirror_mode": {
    "name": "ipython",
    "version": 3
   },
   "file_extension": ".py",
   "mimetype": "text/x-python",
   "name": "python",
   "nbconvert_exporter": "python",
   "pygments_lexer": "ipython3",
   "version": "3.10.12"
  },
  "orig_nbformat": 4
 },
 "nbformat": 4,
 "nbformat_minor": 2
}
