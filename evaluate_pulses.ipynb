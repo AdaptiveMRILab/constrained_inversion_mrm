{
 "cells": [
  {
   "cell_type": "code",
   "execution_count": 1,
   "metadata": {},
   "outputs": [
    {
     "name": "stderr",
     "output_type": "stream",
     "text": [
      "/home/nikolai/dev/constrained_inversion_mrm/venv/lib/python3.10/site-packages/tqdm/auto.py:21: TqdmWarning: IProgress not found. Please update jupyter and ipywidgets. See https://ipywidgets.readthedocs.io/en/stable/user_install.html\n",
      "  from .autonotebook import tqdm as notebook_tqdm\n"
     ]
    }
   ],
   "source": [
    "import os \n",
    "import numpy as np \n",
    "import h5py \n",
    "import json\n",
    "import shutil\n",
    "import time \n",
    "import torch \n",
    "import glob \n",
    "import scipy.io as sio\n",
    "\n",
    "from tqdm import tqdm\n",
    "from datetime import datetime\n",
    "from utils import *\n",
    "\n",
    "# torch computation device to calculate jacobian via autograd\n",
    "device = torch.device('cuda:0')"
   ]
  },
  {
   "cell_type": "markdown",
   "metadata": {},
   "source": []
  },
  {
   "cell_type": "code",
   "execution_count": null,
   "metadata": {},
   "outputs": [],
   "source": []
  },
  {
   "cell_type": "markdown",
   "metadata": {},
   "source": []
  },
  {
   "cell_type": "code",
   "execution_count": 11,
   "metadata": {},
   "outputs": [],
   "source": [
    "opt_pulse_directory = 'data/nonsel_20250313_072103'\n",
    "opt_pulse_file = os.path.join(opt_pulse_directory, 'pulse_000.h5')\n",
    "opt_pulse_param_file = os.path.join(opt_pulse_directory, 'params_nonsel.json')\n",
    "\n",
    "with open(opt_pulse_param_file,'r') as fid: par = json.load(fid)[0]\n",
    "gamma_bar = par['gamma_bar']\n",
    "dt = par['raster_time']\n",
    "\n",
    "# load optimized pulse and reference HS pulse\n",
    "with h5py.File(opt_pulse_file, 'r') as F:\n",
    "    rf_opt = np.array(F['rf_opt'], dtype=np.complex128) * 1e6 / gamma_bar # uT\n",
    "    rf_hs = np.array(F['rf_hs'], dtype=np.complex128) * 1e6 / gamma_bar   # uT\n",
    "    mz_hs = np.array(F['mz_hs'], dtype=np.float64)\n",
    "    mz_opt = np.array(F['mz_opt'], dtype=np.float64)\n",
    "    b1_design = np.array(F['b1_scales'], dtype=np.float64) \n",
    "    freq_design = np.array(F['freq_arr'], dtype=np.float64)\n",
    "dur_opt = rf_opt.size * dt \n",
    "dur_hs = rf_hs.size * dt \n",
    "\n",
    "# load the pulse provided by Graf et al\n",
    "graf_pulse_file = 'data/pulse_graf_et_al.mat'\n",
    "df = sio.loadmat(graf_pulse_file)\n",
    "u = np.squeeze(df['u']).astype(np.float64)\n",
    "v = np.squeeze(df['v']).astype(np.float64)\n",
    "rf_graf = (u + 1j*v) * 1e3 # uT\n",
    "dt_graf = 0.01*1e-3\n",
    "dur_graf = rf_graf.size * dt_graf\n",
    "\n",
    "freq_eval = np.linspace(-1000.0, 1000.0, 512, dtype=np.float64)\n",
    "b1_eval = np.linspace(0.0, 2.0, 512, dtype=np.float64)\n",
    "\n",
    "# simulations of longitudinal magnetization\n",
    "mz_graf = simulate_mz(rf_graf*1e-6*gamma_bar, freq_design, b1_design, dt_graf, device=device, return_numpy=True)\n",
    "mz_graf_eval = simulate_mz(rf_graf*1e-6*gamma_bar, freq_eval, b1_eval, dt_graf, device=device, return_numpy=True)\n",
    "mz_opt_eval = simulate_mz(rf_opt*1e-6*gamma_bar, freq_eval, b1_eval, dt, device=device, return_numpy=True)\n",
    "mz_hs_eval = simulate_mz(rf_hs*1e-6*gamma_bar, freq_eval, b1_eval, dt, device=device, return_numpy=True)\n",
    "\n",
    "# time vectors to be used for plotting \n",
    "tv_opt = 1e3 * np.arange(0, dur_opt, dt, dtype=np.float64)\n",
    "tv_hs = 1e3 * np.arange(0, dur_hs, dt, dtype=np.float64)\n",
    "tv_graf = 1e3 * np.arange(0, dur_graf, dt_graf, dtype=np.float64)\n",
    "\n",
    "pulses = [rf_hs, rf_opt, rf_graf]\n",
    "tv = [tv_hs, tv_opt, tv_graf]\n",
    "dur = [dur_hs, dur_opt, dur_graf] # scalar\n",
    "mz = [mz_hs, mz_opt, mz_graf]\n",
    "mz_eval = [mz_hs_eval, mz_opt_eval, mz_graf_eval]\n",
    "show_optimized_region = [0, 1, 1]\n",
    "x_corner = [0, freq_design.min(), 0.0]\n",
    "y_corner = [0, b1_design.min(), 0.7] # value of 0.7 hard-coded from Graf et. al.\n",
    "width = [0, freq_design.max()-freq_design.min(), 0.0]\n",
    "height = [0, b1_design.max()-b1_design.min(), 1.3 - 0.7]\n",
    "legend_locs = ['upper right', 'center', 'lower right']\n",
    "titles = ['$\\mathrm{HS\\ Reference}$', '$\\mathrm{Proposed}$', '$\\mathrm{Graf\\ et.\\ al.\\ (optim\\ }B_1^+\\mathrm{)}$']\n",
    "num_pulses = len(pulses)\n",
    "\n",
    "eval_file = os.path.join(opt_pulse_directory, 'eval_data.h5')\n",
    "with h5py.File(eval_file,'w') as F:\n",
    "    F.create_dataset('num_pulses', data=num_pulses)\n",
    "    F.create_dataset('b1_design', data=b1_design)\n",
    "    F.create_dataset('freq_design', data=freq_design)\n",
    "    F.create_dataset('b1_eval', data=b1_eval)\n",
    "    F.create_dataset('freq_eval', data=freq_eval)\n",
    "    for p in range(len(pulses)):\n",
    "        F.create_dataset('pulse_%i'%(p), data=pulses[p]) \n",
    "        F.create_dataset('tv_%i'%(p), data=tv[p])\n",
    "        F.create_dataset('dur_%i'%(p), data=dur[p]*1e3)\n",
    "        F.create_dataset('mz_%i'%(p), data=mz[p])\n",
    "        F.create_dataset('mz_eval_%i'%(p), data=mz_eval[p])\n",
    "        F.create_dataset('show_optimized_region_%i'%(p), data=show_optimized_region[p]) \n",
    "        F.create_dataset('x_corner_%i'%(p), data=x_corner[p]) \n",
    "        F.create_dataset('y_corner_%i'%(p), data=y_corner[p]) \n",
    "        F.create_dataset('width_%i'%(p), data=width[p]) \n",
    "        F.create_dataset('height_%i'%(p), data=height[p]) \n",
    "        F.create_dataset('title_%d'%(p), data=titles[p], dtype=h5py.string_dtype(encoding='utf-8'))\n",
    "        F.create_dataset('legend_loc_%d'%(p), data=legend_locs[p], dtype=h5py.string_dtype(encoding='utf-8'))\n",
    "\n"
   ]
  }
 ],
 "metadata": {
  "kernelspec": {
   "display_name": "venv",
   "language": "python",
   "name": "python3"
  },
  "language_info": {
   "codemirror_mode": {
    "name": "ipython",
    "version": 3
   },
   "file_extension": ".py",
   "mimetype": "text/x-python",
   "name": "python",
   "nbconvert_exporter": "python",
   "pygments_lexer": "ipython3",
   "version": "3.10.12"
  },
  "orig_nbformat": 4
 },
 "nbformat": 4,
 "nbformat_minor": 2
}
